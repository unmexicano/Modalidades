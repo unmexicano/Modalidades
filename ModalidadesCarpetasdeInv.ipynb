{
 "cells": [
  {
   "cell_type": "code",
   "execution_count": 23,
   "metadata": {
    "scrolled": true
   },
   "outputs": [],
   "source": [
    "import pandas as pd\n",
    "import numpy as np\n",
    "import os\n",
    "import requests, zipfile, io\n",
    "import zipfile\n",
    "import sys\n",
    "sys._enablelegacywindowsfsencoding()\n"
   ]
  },
  {
   "cell_type": "code",
   "execution_count": 24,
   "metadata": {},
   "outputs": [],
   "source": [
    "\n",
    "r = requests.get(\"http://www.secretariadoejecutivo.gob.mx/docs/pdfs/nueva-metodologia/Estatal-Delitos-2015-2018_dic18.zip\")\n",
    "z = zipfile.ZipFile(io.BytesIO(r.content))\n",
    "z.extractall()\n"
   ]
  },
  {
   "cell_type": "code",
   "execution_count": 25,
   "metadata": {},
   "outputs": [
    {
     "data": {
      "text/plain": [
       "['.ipynb_checkpoints',\n",
       " 'carpetas.csv',\n",
       " 'casahabitación.csv',\n",
       " 'Con violencia.csv',\n",
       " 'Estatal Delitos - diciembre 2018.csv',\n",
       " 'Estatal Delitos - diciembre 2018.xlsb',\n",
       " 'Estatal Delitos - noviembre 2018.xlsb',\n",
       " 'Estatal-Delitos-2015-2018_sep18.csv',\n",
       " 'Estatal-Delitos-2015-2018_sep18.xlsb',\n",
       " 'ModalidadesCarpetasdeInv.ipynb',\n",
       " 'RoboANegocio.csv',\n",
       " 'tran.csv',\n",
       " 'transeunte.csv',\n",
       " 'vehiculo.csv',\n",
       " 'Violacion.csv',\n",
       " 'violencia.csv']"
      ]
     },
     "execution_count": 25,
     "metadata": {},
     "output_type": "execute_result"
    }
   ],
   "source": [
    "import os\n",
    "os.listdir(\"C:\\\\users\\\\Angel ONC\\\\Desktop\\\\OCMX\\\\ModalidadesCI\")"
   ]
  },
  {
   "cell_type": "code",
   "execution_count": 26,
   "metadata": {},
   "outputs": [],
   "source": [
    "import win32com.client\n",
    "excel = win32com.client.Dispatch(\"Excel.Application\")\n",
    "excel.DisplayAlerts = False\n",
    "excel.Visible=False\n",
    "doc = excel.Workbooks.Open(r\"C:\\Users\\Angel ONC\\Desktop\\OCMX\\ModalidadesCI\\Estatal Delitos - diciembre 2018.xlsb\")\n",
    "doc.SaveAs(Filename=\"C:\\\\users\\\\Angel ONC\\\\Desktop\\\\OCMX\\\\ModalidadesCI\\\\Estatal Delitos - diciembre 2018.csv\",FileFormat=6)\n",
    "doc.Close()\n",
    "excel.Quit()"
   ]
  },
  {
   "cell_type": "code",
   "execution_count": 27,
   "metadata": {},
   "outputs": [],
   "source": [
    "file_path='Estatal Delitos - diciembre 2018.csv'"
   ]
  },
  {
   "cell_type": "code",
   "execution_count": 28,
   "metadata": {},
   "outputs": [],
   "source": [
    "df = pd.read_csv(file_path, encoding='latin-1')"
   ]
  },
  {
   "cell_type": "code",
   "execution_count": 29,
   "metadata": {},
   "outputs": [],
   "source": [
    "df1 = df\n",
    "\n",
    "\n",
    "df2 = df1.fillna({\n",
    " 'Enero': 0,\n",
    " 'Febrero': 0,\n",
    " 'Marzo': 0,\n",
    " 'Abril': 0,\n",
    " 'Mayo': 0,\n",
    " 'Junio': 0,\n",
    " 'Julio': 0,\n",
    " 'Agosto': 0,\n",
    " 'Septiembre': 0,\n",
    " 'Octubre': 0,\n",
    " 'Noviembre': 0,\n",
    " 'Diciembre': 0,\n",
    "    \n",
    "})"
   ]
  },
  {
   "cell_type": "code",
   "execution_count": 30,
   "metadata": {},
   "outputs": [],
   "source": [
    "\n",
    "df2.to_csv('carpetas.csv', float_format='%.0f')"
   ]
  },
  {
   "cell_type": "code",
   "execution_count": 31,
   "metadata": {},
   "outputs": [],
   "source": [
    "df3 = pd.read_csv(r'carpetas.csv').drop('Unnamed: 0', axis=1)"
   ]
  },
  {
   "cell_type": "code",
   "execution_count": 32,
   "metadata": {},
   "outputs": [
    {
     "data": {
      "text/html": [
       "<div>\n",
       "<style scoped>\n",
       "    .dataframe tbody tr th:only-of-type {\n",
       "        vertical-align: middle;\n",
       "    }\n",
       "\n",
       "    .dataframe tbody tr th {\n",
       "        vertical-align: top;\n",
       "    }\n",
       "\n",
       "    .dataframe thead th {\n",
       "        text-align: right;\n",
       "    }\n",
       "</style>\n",
       "<table border=\"1\" class=\"dataframe\">\n",
       "  <thead>\n",
       "    <tr style=\"text-align: right;\">\n",
       "      <th></th>\n",
       "      <th>Año</th>\n",
       "      <th>Clave_Ent</th>\n",
       "      <th>Entidad</th>\n",
       "      <th>Bien jurídico afectado</th>\n",
       "      <th>Tipo de delito</th>\n",
       "      <th>Subtipo de delito</th>\n",
       "      <th>Modalidad</th>\n",
       "      <th>Enero</th>\n",
       "      <th>Febrero</th>\n",
       "      <th>Marzo</th>\n",
       "      <th>Abril</th>\n",
       "      <th>Mayo</th>\n",
       "      <th>Junio</th>\n",
       "      <th>Julio</th>\n",
       "      <th>Agosto</th>\n",
       "      <th>Septiembre</th>\n",
       "      <th>Octubre</th>\n",
       "      <th>Noviembre</th>\n",
       "      <th>Diciembre</th>\n",
       "    </tr>\n",
       "  </thead>\n",
       "  <tbody>\n",
       "    <tr>\n",
       "      <th>0</th>\n",
       "      <td>2015</td>\n",
       "      <td>1</td>\n",
       "      <td>Aguascalientes</td>\n",
       "      <td>La vida y la Integridad corporal</td>\n",
       "      <td>Homicidio</td>\n",
       "      <td>Homicidio doloso</td>\n",
       "      <td>Con arma de fuego</td>\n",
       "      <td>3</td>\n",
       "      <td>0</td>\n",
       "      <td>2</td>\n",
       "      <td>1</td>\n",
       "      <td>1</td>\n",
       "      <td>1</td>\n",
       "      <td>2</td>\n",
       "      <td>1</td>\n",
       "      <td>2</td>\n",
       "      <td>2</td>\n",
       "      <td>2</td>\n",
       "      <td>1</td>\n",
       "    </tr>\n",
       "    <tr>\n",
       "      <th>1</th>\n",
       "      <td>2015</td>\n",
       "      <td>1</td>\n",
       "      <td>Aguascalientes</td>\n",
       "      <td>La vida y la Integridad corporal</td>\n",
       "      <td>Homicidio</td>\n",
       "      <td>Homicidio doloso</td>\n",
       "      <td>Con arma blanca</td>\n",
       "      <td>1</td>\n",
       "      <td>1</td>\n",
       "      <td>0</td>\n",
       "      <td>0</td>\n",
       "      <td>0</td>\n",
       "      <td>1</td>\n",
       "      <td>0</td>\n",
       "      <td>1</td>\n",
       "      <td>0</td>\n",
       "      <td>0</td>\n",
       "      <td>0</td>\n",
       "      <td>1</td>\n",
       "    </tr>\n",
       "    <tr>\n",
       "      <th>2</th>\n",
       "      <td>2015</td>\n",
       "      <td>1</td>\n",
       "      <td>Aguascalientes</td>\n",
       "      <td>La vida y la Integridad corporal</td>\n",
       "      <td>Homicidio</td>\n",
       "      <td>Homicidio doloso</td>\n",
       "      <td>Con otro elemento</td>\n",
       "      <td>0</td>\n",
       "      <td>0</td>\n",
       "      <td>2</td>\n",
       "      <td>2</td>\n",
       "      <td>3</td>\n",
       "      <td>2</td>\n",
       "      <td>0</td>\n",
       "      <td>1</td>\n",
       "      <td>2</td>\n",
       "      <td>0</td>\n",
       "      <td>0</td>\n",
       "      <td>0</td>\n",
       "    </tr>\n",
       "    <tr>\n",
       "      <th>3</th>\n",
       "      <td>2015</td>\n",
       "      <td>1</td>\n",
       "      <td>Aguascalientes</td>\n",
       "      <td>La vida y la Integridad corporal</td>\n",
       "      <td>Homicidio</td>\n",
       "      <td>Homicidio doloso</td>\n",
       "      <td>No especificado</td>\n",
       "      <td>2</td>\n",
       "      <td>0</td>\n",
       "      <td>0</td>\n",
       "      <td>1</td>\n",
       "      <td>0</td>\n",
       "      <td>0</td>\n",
       "      <td>0</td>\n",
       "      <td>0</td>\n",
       "      <td>0</td>\n",
       "      <td>0</td>\n",
       "      <td>0</td>\n",
       "      <td>0</td>\n",
       "    </tr>\n",
       "    <tr>\n",
       "      <th>4</th>\n",
       "      <td>2015</td>\n",
       "      <td>1</td>\n",
       "      <td>Aguascalientes</td>\n",
       "      <td>La vida y la Integridad corporal</td>\n",
       "      <td>Homicidio</td>\n",
       "      <td>Homicidio culposo</td>\n",
       "      <td>Con arma de fuego</td>\n",
       "      <td>0</td>\n",
       "      <td>0</td>\n",
       "      <td>0</td>\n",
       "      <td>0</td>\n",
       "      <td>1</td>\n",
       "      <td>0</td>\n",
       "      <td>0</td>\n",
       "      <td>0</td>\n",
       "      <td>0</td>\n",
       "      <td>0</td>\n",
       "      <td>0</td>\n",
       "      <td>0</td>\n",
       "    </tr>\n",
       "  </tbody>\n",
       "</table>\n",
       "</div>"
      ],
      "text/plain": [
       "    Año  Clave_Ent         Entidad            Bien jurídico afectado  \\\n",
       "0  2015          1  Aguascalientes  La vida y la Integridad corporal   \n",
       "1  2015          1  Aguascalientes  La vida y la Integridad corporal   \n",
       "2  2015          1  Aguascalientes  La vida y la Integridad corporal   \n",
       "3  2015          1  Aguascalientes  La vida y la Integridad corporal   \n",
       "4  2015          1  Aguascalientes  La vida y la Integridad corporal   \n",
       "\n",
       "  Tipo de delito  Subtipo de delito          Modalidad  Enero  Febrero  Marzo  \\\n",
       "0      Homicidio   Homicidio doloso  Con arma de fuego      3        0      2   \n",
       "1      Homicidio   Homicidio doloso    Con arma blanca      1        1      0   \n",
       "2      Homicidio   Homicidio doloso  Con otro elemento      0        0      2   \n",
       "3      Homicidio   Homicidio doloso    No especificado      2        0      0   \n",
       "4      Homicidio  Homicidio culposo  Con arma de fuego      0        0      0   \n",
       "\n",
       "   Abril  Mayo  Junio  Julio  Agosto  Septiembre  Octubre  Noviembre  \\\n",
       "0      1     1      1      2       1           2        2          2   \n",
       "1      0     0      1      0       1           0        0          0   \n",
       "2      2     3      2      0       1           2        0          0   \n",
       "3      1     0      0      0       0           0        0          0   \n",
       "4      0     1      0      0       0           0        0          0   \n",
       "\n",
       "   Diciembre  \n",
       "0          1  \n",
       "1          1  \n",
       "2          0  \n",
       "3          0  \n",
       "4          0  "
      ]
     },
     "execution_count": 32,
     "metadata": {},
     "output_type": "execute_result"
    }
   ],
   "source": [
    "df3.head()"
   ]
  },
  {
   "cell_type": "code",
   "execution_count": 33,
   "metadata": {},
   "outputs": [],
   "source": [
    "df3['T1'] = df3['Enero'] + df3['Febrero'] + df3['Marzo']\n",
    "df3['T2'] = df3['Abril'] + df3['Mayo'] + df3['Junio']\n",
    "df3['T3'] = df3['Julio'] + df3['Agosto'] + df3['Septiembre']\n",
    "df3['T4'] = df3['Octubre'] + df3['Noviembre'] + df3['Diciembre']\n",
    "df3['Anual'] = df3['T1'] + df3['T2']+ df3['T3']+ df3['T4'] "
   ]
  },
  {
   "cell_type": "code",
   "execution_count": 34,
   "metadata": {},
   "outputs": [],
   "source": [
    "df4=df3.drop(df3.columns[df3.columns.get_loc('Enero'):df3.columns.get_loc('Diciembre')+1], axis=1) \n"
   ]
  },
  {
   "cell_type": "code",
   "execution_count": 35,
   "metadata": {},
   "outputs": [],
   "source": [
    "df5 = df4.drop('Clave_Ent', axis=1)\n"
   ]
  },
  {
   "cell_type": "code",
   "execution_count": 36,
   "metadata": {},
   "outputs": [],
   "source": [
    "df6= df5.loc[df5['Año'] == 2018]\n"
   ]
  },
  {
   "cell_type": "code",
   "execution_count": 37,
   "metadata": {},
   "outputs": [],
   "source": [
    "df7 = df6.loc[df6['Entidad'] == 'Ciudad de México']\n",
    "df8=df7.drop('T1', axis=1).drop('T2', axis=1).drop('T4', axis=1).drop('T3', axis=1)\n",
    "df9=df8[df8.Anual != 0] \n",
    "df9\n",
    "\n",
    "df10 = df9.reindex(df9.index.repeat(df9.Anual))"
   ]
  },
  {
   "cell_type": "code",
   "execution_count": 38,
   "metadata": {},
   "outputs": [],
   "source": [
    "df10.rename(columns={'Tipo de delito':'Crime'}, inplace=True)"
   ]
  },
  {
   "cell_type": "code",
   "execution_count": 39,
   "metadata": {},
   "outputs": [],
   "source": [
    "df10.rename(columns={'Subtipo de delito':'Delito'}, inplace=True)"
   ]
  },
  {
   "cell_type": "code",
   "execution_count": 41,
   "metadata": {},
   "outputs": [
    {
     "data": {
      "text/plain": [
       "array(['Con arma de fuego', 'Con arma blanca', 'Con otro elemento',\n",
       "       'En accidente de tránsito', 'No especificado', 'Aborto',\n",
       "       'Secuestro extorsivo', 'Tráfico de menores', 'Rapto',\n",
       "       'Otros delitos que atentan contra la libertad personal',\n",
       "       'Abuso sexual', 'Acoso sexual', 'Violación simple',\n",
       "       'Violación equiparada',\n",
       "       'Otros delitos que atentan contra la libertad y la seguridad sexual',\n",
       "       'Con violencia', 'Sin violencia',\n",
       "       'Robo de coche de 4 ruedas Con violencia',\n",
       "       'Robo de coche de 4 ruedas Sin violencia',\n",
       "       'Robo de motocicleta Con violencia',\n",
       "       'Robo de motocicleta Sin violencia',\n",
       "       'Robo de tractores Con violencia',\n",
       "       'Robo de tractores Sin violencia', 'Fraude', 'Abuso de confianza',\n",
       "       'Extorsión', 'Daño a la propiedad', 'Despojo',\n",
       "       'Violencia familiar',\n",
       "       'Incumplimiento de obligaciones de asistencia familiar',\n",
       "       'Otros delitos contra la familia', 'Corrupción de menores',\n",
       "       'Trata de personas', 'Otros delitos contra la sociedad',\n",
       "       'Narcomenudeo', 'Amenazas', 'Allanamiento de morada',\n",
       "       'Evasión de presos', 'Falsedad', 'Falsificación',\n",
       "       'Contra el medio ambiente',\n",
       "       'Delitos cometidos por servidores públicos', 'Electorales',\n",
       "       'Otros delitos del Fuero Común'], dtype=object)"
      ]
     },
     "execution_count": 41,
     "metadata": {},
     "output_type": "execute_result"
    }
   ],
   "source": [
    "df10.Modalidad.unique()"
   ]
  },
  {
   "cell_type": "code",
   "execution_count": 42,
   "metadata": {},
   "outputs": [],
   "source": [
    "violento = ['Con violencia','Robo de coche de 4 ruedas Con violencia', 'Robo de motocicleta Con violencia','Robo de tractores Con violencia']\n",
    "\n",
    "Violencia= df10.loc[df10['Modalidad'].isin(violento)]\n",
    "Violencia=Violencia.drop('Crime',axis=1).set_index('Año').drop('Bien jurídico afectado',axis=1).drop('Entidad',axis=1)\n",
    "Violencia.to_csv('violencia.csv',encoding='latin-1')\n",
    "           \n",
    "Vehiculo= df10.loc[df10['Delito'] == 'Robo de vehículo automotor']\n",
    "Vehiculo=Vehiculo.set_index('Año').drop('Bien jurídico afectado',axis=1).drop('Entidad',axis=1)\n",
    "Vehiculo.to_csv('vehiculo.csv',encoding='latin-1')\n",
    "           \n",
    "Casa= df10.loc[df10['Delito'] == 'Robo a casa habitación']\n",
    "Casa=Casa.drop('Crime',axis=1).set_index('Año').drop('Bien jurídico afectado',axis=1).drop('Entidad',axis=1)\n",
    "Casa.to_csv('casahabitación.csv',encoding='latin-1')\n",
    "           \n",
    "Negocio= df10.loc[df10['Delito'] == 'Robo a negocio']\n",
    "Negocio=Negocio.drop('Crime',axis=1).set_index('Año').drop('Bien jurídico afectado',axis=1).drop('Entidad',axis=1)\n",
    "Negocio.to_csv('RoboANegocio.csv',encoding='latin-1')\n",
    "\n",
    "Negocio= df10.loc[df10['Delito'] == 'Robo a negocio']\n",
    "Negocio=Negocio.drop('Crime',axis=1).set_index('Año').drop('Bien jurídico afectado',axis=1).drop('Entidad',axis=1)\n",
    "Negocio.to_csv('RoboANegocio.csv',encoding='latin-1')\n"
   ]
  },
  {
   "cell_type": "code",
   "execution_count": 23,
   "metadata": {},
   "outputs": [],
   "source": [
    "df10.to_csv('tran.csv',encoding='latin-1')"
   ]
  },
  {
   "cell_type": "code",
   "execution_count": null,
   "metadata": {},
   "outputs": [],
   "source": []
  },
  {
   "cell_type": "code",
   "execution_count": null,
   "metadata": {},
   "outputs": [],
   "source": []
  },
  {
   "cell_type": "code",
   "execution_count": null,
   "metadata": {},
   "outputs": [],
   "source": []
  },
  {
   "cell_type": "code",
   "execution_count": null,
   "metadata": {},
   "outputs": [],
   "source": []
  }
 ],
 "metadata": {
  "kernelspec": {
   "display_name": "Python 3",
   "language": "python",
   "name": "python3"
  },
  "language_info": {
   "codemirror_mode": {
    "name": "ipython",
    "version": 3
   },
   "file_extension": ".py",
   "mimetype": "text/x-python",
   "name": "python",
   "nbconvert_exporter": "python",
   "pygments_lexer": "ipython3",
   "version": "3.7.0"
  }
 },
 "nbformat": 4,
 "nbformat_minor": 2
}
